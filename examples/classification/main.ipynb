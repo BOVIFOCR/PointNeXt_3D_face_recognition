{
 "cells": [
  {
   "cell_type": "code",
   "execution_count": null,
   "id": "2d069b5e",
   "metadata": {},
   "outputs": [],
   "source": []
  },
  {
   "cell_type": "code",
   "execution_count": null,
   "id": "6fb9e9e0",
   "metadata": {},
   "outputs": [],
   "source": [
    "import __init__\n",
    "import os, argparse, yaml, numpy as np\n",
    "from torch import multiprocessing as mp\n",
    "from examples.classification.train import main as train\n",
    "from examples.classification.pretrain import main as pretrain\n",
    "from openpoints.utils import EasyConfig, dist_utils, find_free_port, generate_exp_directory, resume_exp_directory, Wandb\n",
    "\n",
    "\n",
    "if __name__ == \"__main__\":\n",
    "    parser = argparse.ArgumentParser('S3DIS scene segmentation training')\n",
    "    parser.add_argument('--cfg', type=str, required=True, help='config file')\n",
    "    parser.add_argument('--profile', action='store_true', default=False, help='set to True to profile speed')\n",
    "    args, opts = parser.parse_known_args()\n",
    "    cfg = EasyConfig()\n",
    "    cfg.load(args.cfg, recursive=True)\n",
    "    cfg.update(opts)\n",
    "    if cfg.seed is None:\n",
    "        cfg.seed = np.random.randint(1, 10000)\n",
    "\n",
    "    # init distributed env first, since logger depends on the dist info.\n",
    "    cfg.rank, cfg.world_size, cfg.distributed, cfg.mp = dist_utils.get_dist_info(cfg)\n",
    "    cfg.sync_bn = cfg.world_size > 1\n",
    "\n",
    "    # init log dir\n",
    "    cfg.task_name = args.cfg.split('.')[-2].split('/')[-2]\n",
    "    cfg.exp_name = args.cfg.split('.')[-2].split('/')[-1]\n",
    "    tags = [\n",
    "        cfg.task_name,  # task name (the folder of name under ./cfgs\n",
    "        cfg.mode,\n",
    "        cfg.exp_name,  # cfg file name\n",
    "        f'ngpus{cfg.world_size}',\n",
    "        f'seed{cfg.seed}',\n",
    "    ]\n",
    "    opt_list = [] # for checking experiment configs from logging file\n",
    "    for i, opt in enumerate(opts):\n",
    "        if 'rank' not in opt and 'dir' not in opt and 'root' not in opt and 'pretrain' not in opt and 'path' not in opt and 'wandb' not in opt and '/' not in opt:\n",
    "            opt_list.append(opt)\n",
    "    cfg.root_dir = os.path.join(cfg.root_dir, cfg.task_name)\n",
    "    cfg.opts = '-'.join(opt_list)\n",
    "\n",
    "    if cfg.mode in ['resume', 'val', 'test']:\n",
    "        resume_exp_directory(cfg, pretrained_path=cfg.pretrained_path)\n",
    "        cfg.wandb.tags = [cfg.mode]\n",
    "    else:  # resume from the existing ckpt and reuse the folder.\n",
    "        generate_exp_directory(cfg, tags, additional_id=os.environ.get('MASTER_PORT', None))\n",
    "        cfg.wandb.tags = tags\n",
    "    os.environ[\"JOB_LOG_DIR\"] = cfg.log_dir\n",
    "    cfg_path = os.path.join(cfg.run_dir, \"cfg.yaml\")\n",
    "    with open(cfg_path, 'w') as f:\n",
    "        yaml.dump(cfg, f, indent=2)\n",
    "        os.system('cp %s %s' % (args.cfg, cfg.run_dir))\n",
    "    cfg.cfg_path = cfg_path\n",
    "    cfg.wandb.name = cfg.run_name\n",
    "\n",
    "    if cfg.mode == 'pretrain':\n",
    "        main = pretrain\n",
    "    else:\n",
    "        main = train\n",
    "\n",
    "    # multi processing.\n",
    "    if cfg.mp:\n",
    "        port = find_free_port()\n",
    "        cfg.dist_url = f\"tcp://localhost:{port}\"\n",
    "        print('using mp spawn for distributed training')\n",
    "        mp.spawn(main, nprocs=cfg.world_size, args=(cfg, args.profile))\n",
    "    else:\n",
    "        main(0, cfg, profile=args.profile)"
   ]
  },
  {
   "cell_type": "code",
   "execution_count": 6,
   "id": "e9290ebe",
   "metadata": {},
   "outputs": [
    {
     "ename": "SyntaxError",
     "evalue": "invalid syntax (4294271096.py, line 1)",
     "output_type": "error",
     "traceback": [
      "\u001b[0;36m  Cell \u001b[0;32mIn[6], line 1\u001b[0;36m\u001b[0m\n\u001b[0;31m    CUDA_VISIBLE_DEVICES=0 python examples/classification/main.py --cfg cfgs/modelnet40ply2048/pointnext-s.yaml\u001b[0m\n\u001b[0m                           ^\u001b[0m\n\u001b[0;31mSyntaxError\u001b[0m\u001b[0;31m:\u001b[0m invalid syntax\n"
     ]
    }
   ],
   "source": [
    "CUDA_VISIBLE_DEVICES=0 python examples/classification/main.py --cfg cfgs/modelnet40ply2048/pointnext-s.yaml"
   ]
  },
  {
   "cell_type": "code",
   "execution_count": null,
   "id": "6b23ce6a",
   "metadata": {},
   "outputs": [],
   "source": []
  }
 ],
 "metadata": {
  "kernelspec": {
   "display_name": "Python 3 (ipykernel)",
   "language": "python",
   "name": "python3"
  },
  "language_info": {
   "codemirror_mode": {
    "name": "ipython",
    "version": 3
   },
   "file_extension": ".py",
   "mimetype": "text/x-python",
   "name": "python",
   "nbconvert_exporter": "python",
   "pygments_lexer": "ipython3",
   "version": "3.8.10"
  }
 },
 "nbformat": 4,
 "nbformat_minor": 5
}
